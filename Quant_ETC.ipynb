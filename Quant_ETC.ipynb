{
  "cells": [
    {
      "cell_type": "code",
      "execution_count": null,
      "metadata": {
        "id": "rV0nRk7ssHdi",
        "colab": {
          "base_uri": "https://localhost:8080/"
        },
        "outputId": "3cc178f7-fd79-4880-ecc9-a5227c2d9f27"
      },
      "outputs": [
        {
          "output_type": "stream",
          "name": "stdout",
          "text": [
            "Mounted at /content/drive\n"
          ]
        }
      ],
      "source": [
        "from google.colab import drive\n",
        "drive.mount('/content/drive')"
      ]
    },
    {
      "cell_type": "markdown",
      "source": [
        "##Import all Modules\n"
      ],
      "metadata": {
        "id": "dZHXWevuYFAT"
      }
    },
    {
      "cell_type": "code",
      "execution_count": null,
      "metadata": {
        "id": "afFSpKERsIiA"
      },
      "outputs": [],
      "source": [
        "import pandas as pd\n",
        "import numpy as np\n",
        "import matplotlib.pyplot as plt\n",
        "from sklearn.model_selection import train_test_split\n",
        "from sklearn.preprocessing import MinMaxScaler\n",
        "from keras.models import Sequential\n",
        "from keras.layers import Dense, LSTM, Dropout"
      ]
    },
    {
      "cell_type": "markdown",
      "source": [
        "##Read the Dataset\n"
      ],
      "metadata": {
        "id": "kaYd078bYKLF"
      }
    },
    {
      "cell_type": "code",
      "execution_count": null,
      "metadata": {
        "id": "gQWIjb8SsPjn"
      },
      "outputs": [],
      "source": [
        "df = pd.read_csv(\"/content/drive/My Drive/Colab Notebooks/ETH_day.csv\") # Change the path for the csv file accordingly"
      ]
    },
    {
      "cell_type": "code",
      "execution_count": null,
      "metadata": {
        "colab": {
          "base_uri": "https://localhost:8080/",
          "height": 206
        },
        "id": "-9ta_mULu_2A",
        "outputId": "041ec893-de8e-48bc-f963-7335bcd13567"
      },
      "outputs": [
        {
          "output_type": "execute_result",
          "data": {
            "text/plain": [
              "         Date    Open    High     Low   Close  Volume ETH  Volume USD\n",
              "0  15-04-2020  158.61  158.61  158.61  158.61        0.00        0.00\n",
              "1  14-04-2020  156.97  162.15  155.74  158.61    18061.58  2872210.44\n",
              "2  13-04-2020  158.56  159.51  150.12  156.97    15698.32  2416728.28\n",
              "3  12-04-2020  158.66  165.37  155.21  158.56    12877.33  2082804.05\n",
              "4  11-04-2020  158.26  161.49  154.25  158.66    13761.72  2172914.57"
            ],
            "text/html": [
              "\n",
              "  <div id=\"df-6c2f2fe3-47a9-4585-97f7-c1a03decd4fa\" class=\"colab-df-container\">\n",
              "    <div>\n",
              "<style scoped>\n",
              "    .dataframe tbody tr th:only-of-type {\n",
              "        vertical-align: middle;\n",
              "    }\n",
              "\n",
              "    .dataframe tbody tr th {\n",
              "        vertical-align: top;\n",
              "    }\n",
              "\n",
              "    .dataframe thead th {\n",
              "        text-align: right;\n",
              "    }\n",
              "</style>\n",
              "<table border=\"1\" class=\"dataframe\">\n",
              "  <thead>\n",
              "    <tr style=\"text-align: right;\">\n",
              "      <th></th>\n",
              "      <th>Date</th>\n",
              "      <th>Open</th>\n",
              "      <th>High</th>\n",
              "      <th>Low</th>\n",
              "      <th>Close</th>\n",
              "      <th>Volume ETH</th>\n",
              "      <th>Volume USD</th>\n",
              "    </tr>\n",
              "  </thead>\n",
              "  <tbody>\n",
              "    <tr>\n",
              "      <th>0</th>\n",
              "      <td>15-04-2020</td>\n",
              "      <td>158.61</td>\n",
              "      <td>158.61</td>\n",
              "      <td>158.61</td>\n",
              "      <td>158.61</td>\n",
              "      <td>0.00</td>\n",
              "      <td>0.00</td>\n",
              "    </tr>\n",
              "    <tr>\n",
              "      <th>1</th>\n",
              "      <td>14-04-2020</td>\n",
              "      <td>156.97</td>\n",
              "      <td>162.15</td>\n",
              "      <td>155.74</td>\n",
              "      <td>158.61</td>\n",
              "      <td>18061.58</td>\n",
              "      <td>2872210.44</td>\n",
              "    </tr>\n",
              "    <tr>\n",
              "      <th>2</th>\n",
              "      <td>13-04-2020</td>\n",
              "      <td>158.56</td>\n",
              "      <td>159.51</td>\n",
              "      <td>150.12</td>\n",
              "      <td>156.97</td>\n",
              "      <td>15698.32</td>\n",
              "      <td>2416728.28</td>\n",
              "    </tr>\n",
              "    <tr>\n",
              "      <th>3</th>\n",
              "      <td>12-04-2020</td>\n",
              "      <td>158.66</td>\n",
              "      <td>165.37</td>\n",
              "      <td>155.21</td>\n",
              "      <td>158.56</td>\n",
              "      <td>12877.33</td>\n",
              "      <td>2082804.05</td>\n",
              "    </tr>\n",
              "    <tr>\n",
              "      <th>4</th>\n",
              "      <td>11-04-2020</td>\n",
              "      <td>158.26</td>\n",
              "      <td>161.49</td>\n",
              "      <td>154.25</td>\n",
              "      <td>158.66</td>\n",
              "      <td>13761.72</td>\n",
              "      <td>2172914.57</td>\n",
              "    </tr>\n",
              "  </tbody>\n",
              "</table>\n",
              "</div>\n",
              "    <div class=\"colab-df-buttons\">\n",
              "\n",
              "  <div class=\"colab-df-container\">\n",
              "    <button class=\"colab-df-convert\" onclick=\"convertToInteractive('df-6c2f2fe3-47a9-4585-97f7-c1a03decd4fa')\"\n",
              "            title=\"Convert this dataframe to an interactive table.\"\n",
              "            style=\"display:none;\">\n",
              "\n",
              "  <svg xmlns=\"http://www.w3.org/2000/svg\" height=\"24px\" viewBox=\"0 -960 960 960\">\n",
              "    <path d=\"M120-120v-720h720v720H120Zm60-500h600v-160H180v160Zm220 220h160v-160H400v160Zm0 220h160v-160H400v160ZM180-400h160v-160H180v160Zm440 0h160v-160H620v160ZM180-180h160v-160H180v160Zm440 0h160v-160H620v160Z\"/>\n",
              "  </svg>\n",
              "    </button>\n",
              "\n",
              "  <style>\n",
              "    .colab-df-container {\n",
              "      display:flex;\n",
              "      gap: 12px;\n",
              "    }\n",
              "\n",
              "    .colab-df-convert {\n",
              "      background-color: #E8F0FE;\n",
              "      border: none;\n",
              "      border-radius: 50%;\n",
              "      cursor: pointer;\n",
              "      display: none;\n",
              "      fill: #1967D2;\n",
              "      height: 32px;\n",
              "      padding: 0 0 0 0;\n",
              "      width: 32px;\n",
              "    }\n",
              "\n",
              "    .colab-df-convert:hover {\n",
              "      background-color: #E2EBFA;\n",
              "      box-shadow: 0px 1px 2px rgba(60, 64, 67, 0.3), 0px 1px 3px 1px rgba(60, 64, 67, 0.15);\n",
              "      fill: #174EA6;\n",
              "    }\n",
              "\n",
              "    .colab-df-buttons div {\n",
              "      margin-bottom: 4px;\n",
              "    }\n",
              "\n",
              "    [theme=dark] .colab-df-convert {\n",
              "      background-color: #3B4455;\n",
              "      fill: #D2E3FC;\n",
              "    }\n",
              "\n",
              "    [theme=dark] .colab-df-convert:hover {\n",
              "      background-color: #434B5C;\n",
              "      box-shadow: 0px 1px 3px 1px rgba(0, 0, 0, 0.15);\n",
              "      filter: drop-shadow(0px 1px 2px rgba(0, 0, 0, 0.3));\n",
              "      fill: #FFFFFF;\n",
              "    }\n",
              "  </style>\n",
              "\n",
              "    <script>\n",
              "      const buttonEl =\n",
              "        document.querySelector('#df-6c2f2fe3-47a9-4585-97f7-c1a03decd4fa button.colab-df-convert');\n",
              "      buttonEl.style.display =\n",
              "        google.colab.kernel.accessAllowed ? 'block' : 'none';\n",
              "\n",
              "      async function convertToInteractive(key) {\n",
              "        const element = document.querySelector('#df-6c2f2fe3-47a9-4585-97f7-c1a03decd4fa');\n",
              "        const dataTable =\n",
              "          await google.colab.kernel.invokeFunction('convertToInteractive',\n",
              "                                                    [key], {});\n",
              "        if (!dataTable) return;\n",
              "\n",
              "        const docLinkHtml = 'Like what you see? Visit the ' +\n",
              "          '<a target=\"_blank\" href=https://colab.research.google.com/notebooks/data_table.ipynb>data table notebook</a>'\n",
              "          + ' to learn more about interactive tables.';\n",
              "        element.innerHTML = '';\n",
              "        dataTable['output_type'] = 'display_data';\n",
              "        await google.colab.output.renderOutput(dataTable, element);\n",
              "        const docLink = document.createElement('div');\n",
              "        docLink.innerHTML = docLinkHtml;\n",
              "        element.appendChild(docLink);\n",
              "      }\n",
              "    </script>\n",
              "  </div>\n",
              "\n",
              "\n",
              "<div id=\"df-ffe6a79d-11ca-4ae5-a82a-3647683087fa\">\n",
              "  <button class=\"colab-df-quickchart\" onclick=\"quickchart('df-ffe6a79d-11ca-4ae5-a82a-3647683087fa')\"\n",
              "            title=\"Suggest charts\"\n",
              "            style=\"display:none;\">\n",
              "\n",
              "<svg xmlns=\"http://www.w3.org/2000/svg\" height=\"24px\"viewBox=\"0 0 24 24\"\n",
              "     width=\"24px\">\n",
              "    <g>\n",
              "        <path d=\"M19 3H5c-1.1 0-2 .9-2 2v14c0 1.1.9 2 2 2h14c1.1 0 2-.9 2-2V5c0-1.1-.9-2-2-2zM9 17H7v-7h2v7zm4 0h-2V7h2v10zm4 0h-2v-4h2v4z\"/>\n",
              "    </g>\n",
              "</svg>\n",
              "  </button>\n",
              "\n",
              "<style>\n",
              "  .colab-df-quickchart {\n",
              "      --bg-color: #E8F0FE;\n",
              "      --fill-color: #1967D2;\n",
              "      --hover-bg-color: #E2EBFA;\n",
              "      --hover-fill-color: #174EA6;\n",
              "      --disabled-fill-color: #AAA;\n",
              "      --disabled-bg-color: #DDD;\n",
              "  }\n",
              "\n",
              "  [theme=dark] .colab-df-quickchart {\n",
              "      --bg-color: #3B4455;\n",
              "      --fill-color: #D2E3FC;\n",
              "      --hover-bg-color: #434B5C;\n",
              "      --hover-fill-color: #FFFFFF;\n",
              "      --disabled-bg-color: #3B4455;\n",
              "      --disabled-fill-color: #666;\n",
              "  }\n",
              "\n",
              "  .colab-df-quickchart {\n",
              "    background-color: var(--bg-color);\n",
              "    border: none;\n",
              "    border-radius: 50%;\n",
              "    cursor: pointer;\n",
              "    display: none;\n",
              "    fill: var(--fill-color);\n",
              "    height: 32px;\n",
              "    padding: 0;\n",
              "    width: 32px;\n",
              "  }\n",
              "\n",
              "  .colab-df-quickchart:hover {\n",
              "    background-color: var(--hover-bg-color);\n",
              "    box-shadow: 0 1px 2px rgba(60, 64, 67, 0.3), 0 1px 3px 1px rgba(60, 64, 67, 0.15);\n",
              "    fill: var(--button-hover-fill-color);\n",
              "  }\n",
              "\n",
              "  .colab-df-quickchart-complete:disabled,\n",
              "  .colab-df-quickchart-complete:disabled:hover {\n",
              "    background-color: var(--disabled-bg-color);\n",
              "    fill: var(--disabled-fill-color);\n",
              "    box-shadow: none;\n",
              "  }\n",
              "\n",
              "  .colab-df-spinner {\n",
              "    border: 2px solid var(--fill-color);\n",
              "    border-color: transparent;\n",
              "    border-bottom-color: var(--fill-color);\n",
              "    animation:\n",
              "      spin 1s steps(1) infinite;\n",
              "  }\n",
              "\n",
              "  @keyframes spin {\n",
              "    0% {\n",
              "      border-color: transparent;\n",
              "      border-bottom-color: var(--fill-color);\n",
              "      border-left-color: var(--fill-color);\n",
              "    }\n",
              "    20% {\n",
              "      border-color: transparent;\n",
              "      border-left-color: var(--fill-color);\n",
              "      border-top-color: var(--fill-color);\n",
              "    }\n",
              "    30% {\n",
              "      border-color: transparent;\n",
              "      border-left-color: var(--fill-color);\n",
              "      border-top-color: var(--fill-color);\n",
              "      border-right-color: var(--fill-color);\n",
              "    }\n",
              "    40% {\n",
              "      border-color: transparent;\n",
              "      border-right-color: var(--fill-color);\n",
              "      border-top-color: var(--fill-color);\n",
              "    }\n",
              "    60% {\n",
              "      border-color: transparent;\n",
              "      border-right-color: var(--fill-color);\n",
              "    }\n",
              "    80% {\n",
              "      border-color: transparent;\n",
              "      border-right-color: var(--fill-color);\n",
              "      border-bottom-color: var(--fill-color);\n",
              "    }\n",
              "    90% {\n",
              "      border-color: transparent;\n",
              "      border-bottom-color: var(--fill-color);\n",
              "    }\n",
              "  }\n",
              "</style>\n",
              "\n",
              "  <script>\n",
              "    async function quickchart(key) {\n",
              "      const quickchartButtonEl =\n",
              "        document.querySelector('#' + key + ' button');\n",
              "      quickchartButtonEl.disabled = true;  // To prevent multiple clicks.\n",
              "      quickchartButtonEl.classList.add('colab-df-spinner');\n",
              "      try {\n",
              "        const charts = await google.colab.kernel.invokeFunction(\n",
              "            'suggestCharts', [key], {});\n",
              "      } catch (error) {\n",
              "        console.error('Error during call to suggestCharts:', error);\n",
              "      }\n",
              "      quickchartButtonEl.classList.remove('colab-df-spinner');\n",
              "      quickchartButtonEl.classList.add('colab-df-quickchart-complete');\n",
              "    }\n",
              "    (() => {\n",
              "      let quickchartButtonEl =\n",
              "        document.querySelector('#df-ffe6a79d-11ca-4ae5-a82a-3647683087fa button');\n",
              "      quickchartButtonEl.style.display =\n",
              "        google.colab.kernel.accessAllowed ? 'block' : 'none';\n",
              "    })();\n",
              "  </script>\n",
              "</div>\n",
              "\n",
              "    </div>\n",
              "  </div>\n"
            ],
            "application/vnd.google.colaboratory.intrinsic+json": {
              "type": "dataframe",
              "variable_name": "df",
              "summary": "{\n  \"name\": \"df\",\n  \"rows\": 1438,\n  \"fields\": [\n    {\n      \"column\": \"Date\",\n      \"properties\": {\n        \"dtype\": \"object\",\n        \"num_unique_values\": 1438,\n        \"samples\": [\n          \"24-02-2020\",\n          \"01-09-2016\",\n          \"05-10-2017\"\n        ],\n        \"semantic_type\": \"\",\n        \"description\": \"\"\n      }\n    },\n    {\n      \"column\": \"Open\",\n      \"properties\": {\n        \"dtype\": \"number\",\n        \"std\": 237.66222414042855,\n        \"min\": 6.77,\n        \"max\": 1381.85,\n        \"num_unique_values\": 1351,\n        \"samples\": [\n          157.8,\n          225.55,\n          249.63\n        ],\n        \"semantic_type\": \"\",\n        \"description\": \"\"\n      }\n    },\n    {\n      \"column\": \"High\",\n      \"properties\": {\n        \"dtype\": \"number\",\n        \"std\": 248.67742828365698,\n        \"min\": 7.29,\n        \"max\": 1420.01,\n        \"num_unique_values\": 1320,\n        \"samples\": [\n          648.69,\n          775.0,\n          462.04\n        ],\n        \"semantic_type\": \"\",\n        \"description\": \"\"\n      }\n    },\n    {\n      \"column\": \"Low\",\n      \"properties\": {\n        \"dtype\": \"number\",\n        \"std\": 222.79493764900946,\n        \"min\": 5.99,\n        \"max\": 1270.0,\n        \"num_unique_values\": 1288,\n        \"samples\": [\n          9.2,\n          11.73,\n          129.54\n        ],\n        \"semantic_type\": \"\",\n        \"description\": \"\"\n      }\n    },\n    {\n      \"column\": \"Close\",\n      \"properties\": {\n        \"dtype\": \"number\",\n        \"std\": 237.60638170147976,\n        \"min\": 6.77,\n        \"max\": 1381.85,\n        \"num_unique_values\": 1349,\n        \"samples\": [\n          334.21,\n          146.77,\n          203.53\n        ],\n        \"semantic_type\": \"\",\n        \"description\": \"\"\n      }\n    },\n    {\n      \"column\": \"Volume ETH\",\n      \"properties\": {\n        \"dtype\": \"number\",\n        \"std\": 69083.36236458039,\n        \"min\": 0.0,\n        \"max\": 1827755.14,\n        \"num_unique_values\": 1434,\n        \"samples\": [\n          36928.42,\n          21163.9,\n          101905.45\n        ],\n        \"semantic_type\": \"\",\n        \"description\": \"\"\n      }\n    },\n    {\n      \"column\": \"Volume USD\",\n      \"properties\": {\n        \"dtype\": \"number\",\n        \"std\": 21437799.629777994,\n        \"min\": 0.0,\n        \"max\": 222119304.9,\n        \"num_unique_values\": 1434,\n        \"samples\": [\n          6164432.86,\n          4778957.54,\n          24961663.53\n        ],\n        \"semantic_type\": \"\",\n        \"description\": \"\"\n      }\n    }\n  ]\n}"
            }
          },
          "metadata": {},
          "execution_count": 4
        }
      ],
      "source": [
        "df.head()\n"
      ]
    },
    {
      "cell_type": "markdown",
      "source": [
        "##Split into Training & Testing Set\n"
      ],
      "metadata": {
        "id": "XfjLp1wuYNxV"
      }
    },
    {
      "cell_type": "code",
      "execution_count": null,
      "metadata": {
        "id": "kg14AnENvC1H"
      },
      "outputs": [],
      "source": [
        "df = df.dropna()  # Drop rows with missing values\n",
        "df = df.reset_index(drop=True)  # Reset index after dropping rows\n",
        "dataframe_training, dataframe_testing, y_train, y_test = train_test_split(\n",
        "    df, df, test_size=0.2, random_state=42\n",
        ")"
      ]
    },
    {
      "cell_type": "markdown",
      "source": [
        "##Pre-processing of Training Set\n"
      ],
      "metadata": {
        "id": "OUhpmjXwYYue"
      }
    },
    {
      "cell_type": "code",
      "execution_count": null,
      "metadata": {
        "id": "rx2uDwT8vHrW"
      },
      "outputs": [],
      "source": [
        "training_set = dataframe_training.iloc[:,1:2].values"
      ]
    },
    {
      "cell_type": "code",
      "execution_count": null,
      "metadata": {
        "id": "2Zk2RWqpvKrw"
      },
      "outputs": [],
      "source": [
        "sc = MinMaxScaler()\n",
        "training_set_scaled = sc.fit_transform(training_set)"
      ]
    },
    {
      "cell_type": "markdown",
      "source": [
        "##Pre-processing of Testing Set\n"
      ],
      "metadata": {
        "id": "9sAnFYFCZG-Y"
      }
    },
    {
      "cell_type": "code",
      "execution_count": null,
      "metadata": {
        "id": "bFhe5SKXvMzn",
        "colab": {
          "base_uri": "https://localhost:8080/",
          "height": 206
        },
        "outputId": "599b0222-205e-4ebb-dff3-fc494ccd37d4"
      },
      "outputs": [
        {
          "output_type": "execute_result",
          "data": {
            "text/plain": [
              "            Date    Open    High     Low   Close  Volume ETH   Volume USD\n",
              "51    24-02-2020  275.92  278.00  256.64  265.90    25666.64   6875628.06\n",
              "1322  01-09-2016   11.50   13.50   11.50   12.43     4992.16     61270.91\n",
              "923   05-10-2017  291.48  297.01  286.46  294.28    16539.28   4831361.92\n",
              "1302  21-09-2016   14.45   14.45   12.97   13.50     3045.12     41214.30\n",
              "701   15-05-2018  728.15  738.00  694.16  706.11    37570.44  27155849.85"
            ],
            "text/html": [
              "\n",
              "  <div id=\"df-b0add45e-c5fc-4909-8978-526946a30faa\" class=\"colab-df-container\">\n",
              "    <div>\n",
              "<style scoped>\n",
              "    .dataframe tbody tr th:only-of-type {\n",
              "        vertical-align: middle;\n",
              "    }\n",
              "\n",
              "    .dataframe tbody tr th {\n",
              "        vertical-align: top;\n",
              "    }\n",
              "\n",
              "    .dataframe thead th {\n",
              "        text-align: right;\n",
              "    }\n",
              "</style>\n",
              "<table border=\"1\" class=\"dataframe\">\n",
              "  <thead>\n",
              "    <tr style=\"text-align: right;\">\n",
              "      <th></th>\n",
              "      <th>Date</th>\n",
              "      <th>Open</th>\n",
              "      <th>High</th>\n",
              "      <th>Low</th>\n",
              "      <th>Close</th>\n",
              "      <th>Volume ETH</th>\n",
              "      <th>Volume USD</th>\n",
              "    </tr>\n",
              "  </thead>\n",
              "  <tbody>\n",
              "    <tr>\n",
              "      <th>51</th>\n",
              "      <td>24-02-2020</td>\n",
              "      <td>275.92</td>\n",
              "      <td>278.00</td>\n",
              "      <td>256.64</td>\n",
              "      <td>265.90</td>\n",
              "      <td>25666.64</td>\n",
              "      <td>6875628.06</td>\n",
              "    </tr>\n",
              "    <tr>\n",
              "      <th>1322</th>\n",
              "      <td>01-09-2016</td>\n",
              "      <td>11.50</td>\n",
              "      <td>13.50</td>\n",
              "      <td>11.50</td>\n",
              "      <td>12.43</td>\n",
              "      <td>4992.16</td>\n",
              "      <td>61270.91</td>\n",
              "    </tr>\n",
              "    <tr>\n",
              "      <th>923</th>\n",
              "      <td>05-10-2017</td>\n",
              "      <td>291.48</td>\n",
              "      <td>297.01</td>\n",
              "      <td>286.46</td>\n",
              "      <td>294.28</td>\n",
              "      <td>16539.28</td>\n",
              "      <td>4831361.92</td>\n",
              "    </tr>\n",
              "    <tr>\n",
              "      <th>1302</th>\n",
              "      <td>21-09-2016</td>\n",
              "      <td>14.45</td>\n",
              "      <td>14.45</td>\n",
              "      <td>12.97</td>\n",
              "      <td>13.50</td>\n",
              "      <td>3045.12</td>\n",
              "      <td>41214.30</td>\n",
              "    </tr>\n",
              "    <tr>\n",
              "      <th>701</th>\n",
              "      <td>15-05-2018</td>\n",
              "      <td>728.15</td>\n",
              "      <td>738.00</td>\n",
              "      <td>694.16</td>\n",
              "      <td>706.11</td>\n",
              "      <td>37570.44</td>\n",
              "      <td>27155849.85</td>\n",
              "    </tr>\n",
              "  </tbody>\n",
              "</table>\n",
              "</div>\n",
              "    <div class=\"colab-df-buttons\">\n",
              "\n",
              "  <div class=\"colab-df-container\">\n",
              "    <button class=\"colab-df-convert\" onclick=\"convertToInteractive('df-b0add45e-c5fc-4909-8978-526946a30faa')\"\n",
              "            title=\"Convert this dataframe to an interactive table.\"\n",
              "            style=\"display:none;\">\n",
              "\n",
              "  <svg xmlns=\"http://www.w3.org/2000/svg\" height=\"24px\" viewBox=\"0 -960 960 960\">\n",
              "    <path d=\"M120-120v-720h720v720H120Zm60-500h600v-160H180v160Zm220 220h160v-160H400v160Zm0 220h160v-160H400v160ZM180-400h160v-160H180v160Zm440 0h160v-160H620v160ZM180-180h160v-160H180v160Zm440 0h160v-160H620v160Z\"/>\n",
              "  </svg>\n",
              "    </button>\n",
              "\n",
              "  <style>\n",
              "    .colab-df-container {\n",
              "      display:flex;\n",
              "      gap: 12px;\n",
              "    }\n",
              "\n",
              "    .colab-df-convert {\n",
              "      background-color: #E8F0FE;\n",
              "      border: none;\n",
              "      border-radius: 50%;\n",
              "      cursor: pointer;\n",
              "      display: none;\n",
              "      fill: #1967D2;\n",
              "      height: 32px;\n",
              "      padding: 0 0 0 0;\n",
              "      width: 32px;\n",
              "    }\n",
              "\n",
              "    .colab-df-convert:hover {\n",
              "      background-color: #E2EBFA;\n",
              "      box-shadow: 0px 1px 2px rgba(60, 64, 67, 0.3), 0px 1px 3px 1px rgba(60, 64, 67, 0.15);\n",
              "      fill: #174EA6;\n",
              "    }\n",
              "\n",
              "    .colab-df-buttons div {\n",
              "      margin-bottom: 4px;\n",
              "    }\n",
              "\n",
              "    [theme=dark] .colab-df-convert {\n",
              "      background-color: #3B4455;\n",
              "      fill: #D2E3FC;\n",
              "    }\n",
              "\n",
              "    [theme=dark] .colab-df-convert:hover {\n",
              "      background-color: #434B5C;\n",
              "      box-shadow: 0px 1px 3px 1px rgba(0, 0, 0, 0.15);\n",
              "      filter: drop-shadow(0px 1px 2px rgba(0, 0, 0, 0.3));\n",
              "      fill: #FFFFFF;\n",
              "    }\n",
              "  </style>\n",
              "\n",
              "    <script>\n",
              "      const buttonEl =\n",
              "        document.querySelector('#df-b0add45e-c5fc-4909-8978-526946a30faa button.colab-df-convert');\n",
              "      buttonEl.style.display =\n",
              "        google.colab.kernel.accessAllowed ? 'block' : 'none';\n",
              "\n",
              "      async function convertToInteractive(key) {\n",
              "        const element = document.querySelector('#df-b0add45e-c5fc-4909-8978-526946a30faa');\n",
              "        const dataTable =\n",
              "          await google.colab.kernel.invokeFunction('convertToInteractive',\n",
              "                                                    [key], {});\n",
              "        if (!dataTable) return;\n",
              "\n",
              "        const docLinkHtml = 'Like what you see? Visit the ' +\n",
              "          '<a target=\"_blank\" href=https://colab.research.google.com/notebooks/data_table.ipynb>data table notebook</a>'\n",
              "          + ' to learn more about interactive tables.';\n",
              "        element.innerHTML = '';\n",
              "        dataTable['output_type'] = 'display_data';\n",
              "        await google.colab.output.renderOutput(dataTable, element);\n",
              "        const docLink = document.createElement('div');\n",
              "        docLink.innerHTML = docLinkHtml;\n",
              "        element.appendChild(docLink);\n",
              "      }\n",
              "    </script>\n",
              "  </div>\n",
              "\n",
              "\n",
              "<div id=\"df-8aa5fd7f-59fe-4d69-808b-e3c07e1f82c1\">\n",
              "  <button class=\"colab-df-quickchart\" onclick=\"quickchart('df-8aa5fd7f-59fe-4d69-808b-e3c07e1f82c1')\"\n",
              "            title=\"Suggest charts\"\n",
              "            style=\"display:none;\">\n",
              "\n",
              "<svg xmlns=\"http://www.w3.org/2000/svg\" height=\"24px\"viewBox=\"0 0 24 24\"\n",
              "     width=\"24px\">\n",
              "    <g>\n",
              "        <path d=\"M19 3H5c-1.1 0-2 .9-2 2v14c0 1.1.9 2 2 2h14c1.1 0 2-.9 2-2V5c0-1.1-.9-2-2-2zM9 17H7v-7h2v7zm4 0h-2V7h2v10zm4 0h-2v-4h2v4z\"/>\n",
              "    </g>\n",
              "</svg>\n",
              "  </button>\n",
              "\n",
              "<style>\n",
              "  .colab-df-quickchart {\n",
              "      --bg-color: #E8F0FE;\n",
              "      --fill-color: #1967D2;\n",
              "      --hover-bg-color: #E2EBFA;\n",
              "      --hover-fill-color: #174EA6;\n",
              "      --disabled-fill-color: #AAA;\n",
              "      --disabled-bg-color: #DDD;\n",
              "  }\n",
              "\n",
              "  [theme=dark] .colab-df-quickchart {\n",
              "      --bg-color: #3B4455;\n",
              "      --fill-color: #D2E3FC;\n",
              "      --hover-bg-color: #434B5C;\n",
              "      --hover-fill-color: #FFFFFF;\n",
              "      --disabled-bg-color: #3B4455;\n",
              "      --disabled-fill-color: #666;\n",
              "  }\n",
              "\n",
              "  .colab-df-quickchart {\n",
              "    background-color: var(--bg-color);\n",
              "    border: none;\n",
              "    border-radius: 50%;\n",
              "    cursor: pointer;\n",
              "    display: none;\n",
              "    fill: var(--fill-color);\n",
              "    height: 32px;\n",
              "    padding: 0;\n",
              "    width: 32px;\n",
              "  }\n",
              "\n",
              "  .colab-df-quickchart:hover {\n",
              "    background-color: var(--hover-bg-color);\n",
              "    box-shadow: 0 1px 2px rgba(60, 64, 67, 0.3), 0 1px 3px 1px rgba(60, 64, 67, 0.15);\n",
              "    fill: var(--button-hover-fill-color);\n",
              "  }\n",
              "\n",
              "  .colab-df-quickchart-complete:disabled,\n",
              "  .colab-df-quickchart-complete:disabled:hover {\n",
              "    background-color: var(--disabled-bg-color);\n",
              "    fill: var(--disabled-fill-color);\n",
              "    box-shadow: none;\n",
              "  }\n",
              "\n",
              "  .colab-df-spinner {\n",
              "    border: 2px solid var(--fill-color);\n",
              "    border-color: transparent;\n",
              "    border-bottom-color: var(--fill-color);\n",
              "    animation:\n",
              "      spin 1s steps(1) infinite;\n",
              "  }\n",
              "\n",
              "  @keyframes spin {\n",
              "    0% {\n",
              "      border-color: transparent;\n",
              "      border-bottom-color: var(--fill-color);\n",
              "      border-left-color: var(--fill-color);\n",
              "    }\n",
              "    20% {\n",
              "      border-color: transparent;\n",
              "      border-left-color: var(--fill-color);\n",
              "      border-top-color: var(--fill-color);\n",
              "    }\n",
              "    30% {\n",
              "      border-color: transparent;\n",
              "      border-left-color: var(--fill-color);\n",
              "      border-top-color: var(--fill-color);\n",
              "      border-right-color: var(--fill-color);\n",
              "    }\n",
              "    40% {\n",
              "      border-color: transparent;\n",
              "      border-right-color: var(--fill-color);\n",
              "      border-top-color: var(--fill-color);\n",
              "    }\n",
              "    60% {\n",
              "      border-color: transparent;\n",
              "      border-right-color: var(--fill-color);\n",
              "    }\n",
              "    80% {\n",
              "      border-color: transparent;\n",
              "      border-right-color: var(--fill-color);\n",
              "      border-bottom-color: var(--fill-color);\n",
              "    }\n",
              "    90% {\n",
              "      border-color: transparent;\n",
              "      border-bottom-color: var(--fill-color);\n",
              "    }\n",
              "  }\n",
              "</style>\n",
              "\n",
              "  <script>\n",
              "    async function quickchart(key) {\n",
              "      const quickchartButtonEl =\n",
              "        document.querySelector('#' + key + ' button');\n",
              "      quickchartButtonEl.disabled = true;  // To prevent multiple clicks.\n",
              "      quickchartButtonEl.classList.add('colab-df-spinner');\n",
              "      try {\n",
              "        const charts = await google.colab.kernel.invokeFunction(\n",
              "            'suggestCharts', [key], {});\n",
              "      } catch (error) {\n",
              "        console.error('Error during call to suggestCharts:', error);\n",
              "      }\n",
              "      quickchartButtonEl.classList.remove('colab-df-spinner');\n",
              "      quickchartButtonEl.classList.add('colab-df-quickchart-complete');\n",
              "    }\n",
              "    (() => {\n",
              "      let quickchartButtonEl =\n",
              "        document.querySelector('#df-8aa5fd7f-59fe-4d69-808b-e3c07e1f82c1 button');\n",
              "      quickchartButtonEl.style.display =\n",
              "        google.colab.kernel.accessAllowed ? 'block' : 'none';\n",
              "    })();\n",
              "  </script>\n",
              "</div>\n",
              "\n",
              "    </div>\n",
              "  </div>\n"
            ],
            "application/vnd.google.colaboratory.intrinsic+json": {
              "type": "dataframe",
              "variable_name": "dataframe_testing",
              "repr_error": "0"
            }
          },
          "metadata": {},
          "execution_count": 8
        }
      ],
      "source": [
        "testing_set = dataframe_testing.iloc[:,1:2].values\n",
        "dataframe_testing.head()"
      ]
    },
    {
      "cell_type": "code",
      "execution_count": null,
      "metadata": {
        "colab": {
          "base_uri": "https://localhost:8080/",
          "height": 206
        },
        "id": "2SJtwLx7vPfe",
        "outputId": "b0cb4c2b-98e8-4b48-d223-9c120b22170e"
      },
      "outputs": [
        {
          "output_type": "execute_result",
          "data": {
            "text/plain": [
              "            Date    Open    High     Low   Close  Volume ETH  Volume USD\n",
              "538   25-10-2018  200.71  200.94  195.00  199.64    24931.58  4942964.12\n",
              "174   24-10-2019  162.70  163.78  159.06  161.25     7506.65  1208874.28\n",
              "1390  25-06-2016   14.14   14.80   14.14   14.49     1050.20    14987.16\n",
              "303   17-06-2019  268.67  275.79  267.73  273.88    11373.39  3097331.05\n",
              "1128  14-03-2017   28.76   29.96   27.50   28.99    29859.26   853678.63"
            ],
            "text/html": [
              "\n",
              "  <div id=\"df-e8bb78d8-3522-41ca-a5df-b7b84dbd27b2\" class=\"colab-df-container\">\n",
              "    <div>\n",
              "<style scoped>\n",
              "    .dataframe tbody tr th:only-of-type {\n",
              "        vertical-align: middle;\n",
              "    }\n",
              "\n",
              "    .dataframe tbody tr th {\n",
              "        vertical-align: top;\n",
              "    }\n",
              "\n",
              "    .dataframe thead th {\n",
              "        text-align: right;\n",
              "    }\n",
              "</style>\n",
              "<table border=\"1\" class=\"dataframe\">\n",
              "  <thead>\n",
              "    <tr style=\"text-align: right;\">\n",
              "      <th></th>\n",
              "      <th>Date</th>\n",
              "      <th>Open</th>\n",
              "      <th>High</th>\n",
              "      <th>Low</th>\n",
              "      <th>Close</th>\n",
              "      <th>Volume ETH</th>\n",
              "      <th>Volume USD</th>\n",
              "    </tr>\n",
              "  </thead>\n",
              "  <tbody>\n",
              "    <tr>\n",
              "      <th>538</th>\n",
              "      <td>25-10-2018</td>\n",
              "      <td>200.71</td>\n",
              "      <td>200.94</td>\n",
              "      <td>195.00</td>\n",
              "      <td>199.64</td>\n",
              "      <td>24931.58</td>\n",
              "      <td>4942964.12</td>\n",
              "    </tr>\n",
              "    <tr>\n",
              "      <th>174</th>\n",
              "      <td>24-10-2019</td>\n",
              "      <td>162.70</td>\n",
              "      <td>163.78</td>\n",
              "      <td>159.06</td>\n",
              "      <td>161.25</td>\n",
              "      <td>7506.65</td>\n",
              "      <td>1208874.28</td>\n",
              "    </tr>\n",
              "    <tr>\n",
              "      <th>1390</th>\n",
              "      <td>25-06-2016</td>\n",
              "      <td>14.14</td>\n",
              "      <td>14.80</td>\n",
              "      <td>14.14</td>\n",
              "      <td>14.49</td>\n",
              "      <td>1050.20</td>\n",
              "      <td>14987.16</td>\n",
              "    </tr>\n",
              "    <tr>\n",
              "      <th>303</th>\n",
              "      <td>17-06-2019</td>\n",
              "      <td>268.67</td>\n",
              "      <td>275.79</td>\n",
              "      <td>267.73</td>\n",
              "      <td>273.88</td>\n",
              "      <td>11373.39</td>\n",
              "      <td>3097331.05</td>\n",
              "    </tr>\n",
              "    <tr>\n",
              "      <th>1128</th>\n",
              "      <td>14-03-2017</td>\n",
              "      <td>28.76</td>\n",
              "      <td>29.96</td>\n",
              "      <td>27.50</td>\n",
              "      <td>28.99</td>\n",
              "      <td>29859.26</td>\n",
              "      <td>853678.63</td>\n",
              "    </tr>\n",
              "  </tbody>\n",
              "</table>\n",
              "</div>\n",
              "    <div class=\"colab-df-buttons\">\n",
              "\n",
              "  <div class=\"colab-df-container\">\n",
              "    <button class=\"colab-df-convert\" onclick=\"convertToInteractive('df-e8bb78d8-3522-41ca-a5df-b7b84dbd27b2')\"\n",
              "            title=\"Convert this dataframe to an interactive table.\"\n",
              "            style=\"display:none;\">\n",
              "\n",
              "  <svg xmlns=\"http://www.w3.org/2000/svg\" height=\"24px\" viewBox=\"0 -960 960 960\">\n",
              "    <path d=\"M120-120v-720h720v720H120Zm60-500h600v-160H180v160Zm220 220h160v-160H400v160Zm0 220h160v-160H400v160ZM180-400h160v-160H180v160Zm440 0h160v-160H620v160ZM180-180h160v-160H180v160Zm440 0h160v-160H620v160Z\"/>\n",
              "  </svg>\n",
              "    </button>\n",
              "\n",
              "  <style>\n",
              "    .colab-df-container {\n",
              "      display:flex;\n",
              "      gap: 12px;\n",
              "    }\n",
              "\n",
              "    .colab-df-convert {\n",
              "      background-color: #E8F0FE;\n",
              "      border: none;\n",
              "      border-radius: 50%;\n",
              "      cursor: pointer;\n",
              "      display: none;\n",
              "      fill: #1967D2;\n",
              "      height: 32px;\n",
              "      padding: 0 0 0 0;\n",
              "      width: 32px;\n",
              "    }\n",
              "\n",
              "    .colab-df-convert:hover {\n",
              "      background-color: #E2EBFA;\n",
              "      box-shadow: 0px 1px 2px rgba(60, 64, 67, 0.3), 0px 1px 3px 1px rgba(60, 64, 67, 0.15);\n",
              "      fill: #174EA6;\n",
              "    }\n",
              "\n",
              "    .colab-df-buttons div {\n",
              "      margin-bottom: 4px;\n",
              "    }\n",
              "\n",
              "    [theme=dark] .colab-df-convert {\n",
              "      background-color: #3B4455;\n",
              "      fill: #D2E3FC;\n",
              "    }\n",
              "\n",
              "    [theme=dark] .colab-df-convert:hover {\n",
              "      background-color: #434B5C;\n",
              "      box-shadow: 0px 1px 3px 1px rgba(0, 0, 0, 0.15);\n",
              "      filter: drop-shadow(0px 1px 2px rgba(0, 0, 0, 0.3));\n",
              "      fill: #FFFFFF;\n",
              "    }\n",
              "  </style>\n",
              "\n",
              "    <script>\n",
              "      const buttonEl =\n",
              "        document.querySelector('#df-e8bb78d8-3522-41ca-a5df-b7b84dbd27b2 button.colab-df-convert');\n",
              "      buttonEl.style.display =\n",
              "        google.colab.kernel.accessAllowed ? 'block' : 'none';\n",
              "\n",
              "      async function convertToInteractive(key) {\n",
              "        const element = document.querySelector('#df-e8bb78d8-3522-41ca-a5df-b7b84dbd27b2');\n",
              "        const dataTable =\n",
              "          await google.colab.kernel.invokeFunction('convertToInteractive',\n",
              "                                                    [key], {});\n",
              "        if (!dataTable) return;\n",
              "\n",
              "        const docLinkHtml = 'Like what you see? Visit the ' +\n",
              "          '<a target=\"_blank\" href=https://colab.research.google.com/notebooks/data_table.ipynb>data table notebook</a>'\n",
              "          + ' to learn more about interactive tables.';\n",
              "        element.innerHTML = '';\n",
              "        dataTable['output_type'] = 'display_data';\n",
              "        await google.colab.output.renderOutput(dataTable, element);\n",
              "        const docLink = document.createElement('div');\n",
              "        docLink.innerHTML = docLinkHtml;\n",
              "        element.appendChild(docLink);\n",
              "      }\n",
              "    </script>\n",
              "  </div>\n",
              "\n",
              "\n",
              "<div id=\"df-4dfd4ca0-b9ab-4afc-a732-35b3862e98e3\">\n",
              "  <button class=\"colab-df-quickchart\" onclick=\"quickchart('df-4dfd4ca0-b9ab-4afc-a732-35b3862e98e3')\"\n",
              "            title=\"Suggest charts\"\n",
              "            style=\"display:none;\">\n",
              "\n",
              "<svg xmlns=\"http://www.w3.org/2000/svg\" height=\"24px\"viewBox=\"0 0 24 24\"\n",
              "     width=\"24px\">\n",
              "    <g>\n",
              "        <path d=\"M19 3H5c-1.1 0-2 .9-2 2v14c0 1.1.9 2 2 2h14c1.1 0 2-.9 2-2V5c0-1.1-.9-2-2-2zM9 17H7v-7h2v7zm4 0h-2V7h2v10zm4 0h-2v-4h2v4z\"/>\n",
              "    </g>\n",
              "</svg>\n",
              "  </button>\n",
              "\n",
              "<style>\n",
              "  .colab-df-quickchart {\n",
              "      --bg-color: #E8F0FE;\n",
              "      --fill-color: #1967D2;\n",
              "      --hover-bg-color: #E2EBFA;\n",
              "      --hover-fill-color: #174EA6;\n",
              "      --disabled-fill-color: #AAA;\n",
              "      --disabled-bg-color: #DDD;\n",
              "  }\n",
              "\n",
              "  [theme=dark] .colab-df-quickchart {\n",
              "      --bg-color: #3B4455;\n",
              "      --fill-color: #D2E3FC;\n",
              "      --hover-bg-color: #434B5C;\n",
              "      --hover-fill-color: #FFFFFF;\n",
              "      --disabled-bg-color: #3B4455;\n",
              "      --disabled-fill-color: #666;\n",
              "  }\n",
              "\n",
              "  .colab-df-quickchart {\n",
              "    background-color: var(--bg-color);\n",
              "    border: none;\n",
              "    border-radius: 50%;\n",
              "    cursor: pointer;\n",
              "    display: none;\n",
              "    fill: var(--fill-color);\n",
              "    height: 32px;\n",
              "    padding: 0;\n",
              "    width: 32px;\n",
              "  }\n",
              "\n",
              "  .colab-df-quickchart:hover {\n",
              "    background-color: var(--hover-bg-color);\n",
              "    box-shadow: 0 1px 2px rgba(60, 64, 67, 0.3), 0 1px 3px 1px rgba(60, 64, 67, 0.15);\n",
              "    fill: var(--button-hover-fill-color);\n",
              "  }\n",
              "\n",
              "  .colab-df-quickchart-complete:disabled,\n",
              "  .colab-df-quickchart-complete:disabled:hover {\n",
              "    background-color: var(--disabled-bg-color);\n",
              "    fill: var(--disabled-fill-color);\n",
              "    box-shadow: none;\n",
              "  }\n",
              "\n",
              "  .colab-df-spinner {\n",
              "    border: 2px solid var(--fill-color);\n",
              "    border-color: transparent;\n",
              "    border-bottom-color: var(--fill-color);\n",
              "    animation:\n",
              "      spin 1s steps(1) infinite;\n",
              "  }\n",
              "\n",
              "  @keyframes spin {\n",
              "    0% {\n",
              "      border-color: transparent;\n",
              "      border-bottom-color: var(--fill-color);\n",
              "      border-left-color: var(--fill-color);\n",
              "    }\n",
              "    20% {\n",
              "      border-color: transparent;\n",
              "      border-left-color: var(--fill-color);\n",
              "      border-top-color: var(--fill-color);\n",
              "    }\n",
              "    30% {\n",
              "      border-color: transparent;\n",
              "      border-left-color: var(--fill-color);\n",
              "      border-top-color: var(--fill-color);\n",
              "      border-right-color: var(--fill-color);\n",
              "    }\n",
              "    40% {\n",
              "      border-color: transparent;\n",
              "      border-right-color: var(--fill-color);\n",
              "      border-top-color: var(--fill-color);\n",
              "    }\n",
              "    60% {\n",
              "      border-color: transparent;\n",
              "      border-right-color: var(--fill-color);\n",
              "    }\n",
              "    80% {\n",
              "      border-color: transparent;\n",
              "      border-right-color: var(--fill-color);\n",
              "      border-bottom-color: var(--fill-color);\n",
              "    }\n",
              "    90% {\n",
              "      border-color: transparent;\n",
              "      border-bottom-color: var(--fill-color);\n",
              "    }\n",
              "  }\n",
              "</style>\n",
              "\n",
              "  <script>\n",
              "    async function quickchart(key) {\n",
              "      const quickchartButtonEl =\n",
              "        document.querySelector('#' + key + ' button');\n",
              "      quickchartButtonEl.disabled = true;  // To prevent multiple clicks.\n",
              "      quickchartButtonEl.classList.add('colab-df-spinner');\n",
              "      try {\n",
              "        const charts = await google.colab.kernel.invokeFunction(\n",
              "            'suggestCharts', [key], {});\n",
              "      } catch (error) {\n",
              "        console.error('Error during call to suggestCharts:', error);\n",
              "      }\n",
              "      quickchartButtonEl.classList.remove('colab-df-spinner');\n",
              "      quickchartButtonEl.classList.add('colab-df-quickchart-complete');\n",
              "    }\n",
              "    (() => {\n",
              "      let quickchartButtonEl =\n",
              "        document.querySelector('#df-4dfd4ca0-b9ab-4afc-a732-35b3862e98e3 button');\n",
              "      quickchartButtonEl.style.display =\n",
              "        google.colab.kernel.accessAllowed ? 'block' : 'none';\n",
              "    })();\n",
              "  </script>\n",
              "</div>\n",
              "\n",
              "    </div>\n",
              "  </div>\n"
            ],
            "application/vnd.google.colaboratory.intrinsic+json": {
              "type": "dataframe",
              "variable_name": "dataframe_training",
              "summary": "{\n  \"name\": \"dataframe_training\",\n  \"rows\": 1150,\n  \"fields\": [\n    {\n      \"column\": \"Date\",\n      \"properties\": {\n        \"dtype\": \"object\",\n        \"num_unique_values\": 1150,\n        \"samples\": [\n          \"12-01-2017\",\n          \"29-12-2018\",\n          \"23-03-2019\"\n        ],\n        \"semantic_type\": \"\",\n        \"description\": \"\"\n      }\n    },\n    {\n      \"column\": \"Open\",\n      \"properties\": {\n        \"dtype\": \"number\",\n        \"std\": 234.10340601063123,\n        \"min\": 6.77,\n        \"max\": 1381.85,\n        \"num_unique_values\": 1096,\n        \"samples\": [\n          196.9,\n          178.64,\n          92.57\n        ],\n        \"semantic_type\": \"\",\n        \"description\": \"\"\n      }\n    },\n    {\n      \"column\": \"High\",\n      \"properties\": {\n        \"dtype\": \"number\",\n        \"std\": 245.01206943054984,\n        \"min\": 7.29,\n        \"max\": 1420.01,\n        \"num_unique_values\": 1078,\n        \"samples\": [\n          728.73,\n          216.2,\n          109.77\n        ],\n        \"semantic_type\": \"\",\n        \"description\": \"\"\n      }\n    },\n    {\n      \"column\": \"Low\",\n      \"properties\": {\n        \"dtype\": \"number\",\n        \"std\": 219.7889975450359,\n        \"min\": 5.99,\n        \"max\": 1270.0,\n        \"num_unique_values\": 1047,\n        \"samples\": [\n          190.0,\n          178.82,\n          12.53\n        ],\n        \"semantic_type\": \"\",\n        \"description\": \"\"\n      }\n    },\n    {\n      \"column\": \"Close\",\n      \"properties\": {\n        \"dtype\": \"number\",\n        \"std\": 233.97449651475353,\n        \"min\": 6.77,\n        \"max\": 1381.85,\n        \"num_unique_values\": 1090,\n        \"samples\": [\n          130.31,\n          467.88,\n          267.44\n        ],\n        \"semantic_type\": \"\",\n        \"description\": \"\"\n      }\n    },\n    {\n      \"column\": \"Volume ETH\",\n      \"properties\": {\n        \"dtype\": \"number\",\n        \"std\": 73688.60822352192,\n        \"min\": 0.0,\n        \"max\": 1827755.14,\n        \"num_unique_values\": 1146,\n        \"samples\": [\n          10785.38,\n          115126.42,\n          10628.72\n        ],\n        \"semantic_type\": \"\",\n        \"description\": \"\"\n      }\n    },\n    {\n      \"column\": \"Volume USD\",\n      \"properties\": {\n        \"dtype\": \"number\",\n        \"std\": 20851492.783738256,\n        \"min\": 0.0,\n        \"max\": 177586208.4,\n        \"num_unique_values\": 1146,\n        \"samples\": [\n          540243.16,\n          103608286.9,\n          2278275.65\n        ],\n        \"semantic_type\": \"\",\n        \"description\": \"\"\n      }\n    }\n  ]\n}"
            }
          },
          "metadata": {},
          "execution_count": 9
        }
      ],
      "source": [
        "\n",
        "dataframe_training.head()\n"
      ]
    },
    {
      "cell_type": "markdown",
      "source": [
        "##Number of timesteps\n"
      ],
      "metadata": {
        "id": "bkUjSzojZfvN"
      }
    },
    {
      "cell_type": "code",
      "execution_count": null,
      "metadata": {
        "id": "B_UwMr2Lv1DW"
      },
      "outputs": [],
      "source": [
        "timesteps = 60"
      ]
    },
    {
      "cell_type": "code",
      "execution_count": null,
      "metadata": {
        "id": "dD_SNigjv3tW"
      },
      "outputs": [],
      "source": [
        "X_train = []\n",
        "Y_train = []\n",
        "\n",
        "for i in range(timesteps, len(training_set_scaled)):\n",
        "    #APPEND INTO X_TRAIN: ROWS, COLUMN\n",
        "    X_train.append(training_set_scaled[i-timesteps:i, 0]) #MEMORY\n",
        "    Y_train.append(training_set_scaled[i, 0]) #PREDICTIONS"
      ]
    },
    {
      "cell_type": "markdown",
      "source": [
        "##Convert to Numpy Array\n"
      ],
      "metadata": {
        "id": "1HnmOG0ZZjvs"
      }
    },
    {
      "cell_type": "code",
      "execution_count": null,
      "metadata": {
        "id": "9aoMPbj3v5fm",
        "colab": {
          "base_uri": "https://localhost:8080/"
        },
        "outputId": "d0228790-8ce8-46e9-c51f-93bc6696ce20"
      },
      "outputs": [
        {
          "output_type": "stream",
          "name": "stdout",
          "text": [
            "(1090, 60)\n",
            "[[0.14103907 0.11339704 0.00535969 ... 0.06239637 0.17636792 0.58049713]\n",
            " [0.11339704 0.00535969 0.19046165 ... 0.17636792 0.58049713 0.08680222]\n",
            " [0.00535969 0.19046165 0.0159918  ... 0.58049713 0.08680222 0.3770617 ]\n",
            " ...\n",
            " [0.13649388 0.62685807 0.08330424 ... 0.17569887 0.03036914 0.0107121 ]\n",
            " [0.62685807 0.08330424 0.00418885 ... 0.03036914 0.0107121  0.00469064]\n",
            " [0.08330424 0.00418885 0.11567327 ... 0.0107121  0.00469064 0.30143701]]\n",
            "1090\n"
          ]
        }
      ],
      "source": [
        "X_train, Y_train = np.array(X_train), np.array(Y_train)\n",
        "print(X_train.shape)\n",
        "print(X_train)\n",
        "print(len(X_train))\n"
      ]
    },
    {
      "cell_type": "markdown",
      "source": [
        "##Reshape to add new dimension\n"
      ],
      "metadata": {
        "id": "tkD5Tpy7Znw8"
      }
    },
    {
      "cell_type": "code",
      "execution_count": null,
      "metadata": {
        "id": "K5ga3mUIv-BG"
      },
      "outputs": [],
      "source": [
        "X_train = np.reshape(X_train, (X_train.shape[0], X_train.shape[1], 1))"
      ]
    },
    {
      "cell_type": "markdown",
      "source": [
        "##Construct the RNN\n"
      ],
      "metadata": {
        "id": "0ta96P0eZpOe"
      }
    },
    {
      "cell_type": "code",
      "execution_count": null,
      "metadata": {
        "id": "fiz3Wf5Fv_52"
      },
      "outputs": [],
      "source": [
        "regressor = Sequential()"
      ]
    },
    {
      "cell_type": "code",
      "execution_count": null,
      "metadata": {
        "id": "IaXgeUBvwBm2",
        "colab": {
          "base_uri": "https://localhost:8080/"
        },
        "outputId": "af835a8f-b96d-4033-de92-cfc36a40f8bd"
      },
      "outputs": [
        {
          "output_type": "stream",
          "name": "stderr",
          "text": [
            "/usr/local/lib/python3.11/dist-packages/keras/src/layers/rnn/rnn.py:200: UserWarning: Do not pass an `input_shape`/`input_dim` argument to a layer. When using Sequential models, prefer using an `Input(shape)` object as the first layer in the model instead.\n",
            "  super().__init__(**kwargs)\n"
          ]
        }
      ],
      "source": [
        "regressor.add(LSTM(\n",
        "    units = 50,\n",
        "    return_sequences=True,\n",
        "    input_shape = (X_train.shape[1], 1)\n",
        "    ))\n",
        "\n",
        "regressor.add(Dropout(\n",
        "    rate = 0.2\n",
        "))\n",
        "\n",
        "regressor.add(LSTM(\n",
        "    units = 50,\n",
        "    return_sequences=True,\n",
        "    ))\n",
        "\n",
        "regressor.add(Dropout(\n",
        "    rate = 0.2\n",
        "  ))\n",
        "\n",
        "regressor.add(LSTM(\n",
        "    units = 50,\n",
        "    return_sequences=True,\n",
        "    ))\n",
        "\n",
        "regressor.add(Dropout(\n",
        "    rate = 0.2\n",
        "  ))\n",
        "\n",
        "\n",
        "regressor.add(LSTM(\n",
        "    units = 50,\n",
        "    return_sequences=False,\n",
        "    ))\n",
        "\n",
        "regressor.add(Dropout(\n",
        "    rate = 0.2\n",
        "  ))\n",
        "\n",
        "\n",
        "#FINAL - OUTPUT LAYER\n",
        "regressor.add(Dense(\n",
        "    units = 1\n",
        "    ))"
      ]
    },
    {
      "cell_type": "markdown",
      "source": [
        "##Compile RNN\n"
      ],
      "metadata": {
        "id": "RxThtcsMZyhl"
      }
    },
    {
      "cell_type": "code",
      "execution_count": null,
      "metadata": {
        "id": "1hejFHPLwGZO"
      },
      "outputs": [],
      "source": [
        "regressor.compile(\n",
        "    optimizer = \"adam\", #ALWAYS A SAFE CHOICE; RNN, ANN\n",
        "    loss  = \"mean_squared_error\" #MSE FOR REGRESSION\n",
        "    )"
      ]
    },
    {
      "cell_type": "markdown",
      "source": [
        "##Fit RNN\n"
      ],
      "metadata": {
        "id": "JSRA6o8CZ2Fv"
      }
    },
    {
      "cell_type": "code",
      "execution_count": null,
      "metadata": {
        "colab": {
          "base_uri": "https://localhost:8080/"
        },
        "id": "1qnauppdwQn3",
        "outputId": "8164ed1f-0785-4722-9114-11824f63ba94"
      },
      "outputs": [
        {
          "output_type": "stream",
          "name": "stdout",
          "text": [
            "Epoch 1/5\n",
            "\u001b[1m35/35\u001b[0m \u001b[32m━━━━━━━━━━━━━━━━━━━━\u001b[0m\u001b[37m\u001b[0m \u001b[1m11s\u001b[0m 122ms/step - loss: 0.0387\n",
            "Epoch 2/5\n",
            "\u001b[1m35/35\u001b[0m \u001b[32m━━━━━━━━━━━━━━━━━━━━\u001b[0m\u001b[37m\u001b[0m \u001b[1m5s\u001b[0m 117ms/step - loss: 0.0311\n",
            "Epoch 3/5\n",
            "\u001b[1m35/35\u001b[0m \u001b[32m━━━━━━━━━━━━━━━━━━━━\u001b[0m\u001b[37m\u001b[0m \u001b[1m4s\u001b[0m 104ms/step - loss: 0.0301\n",
            "Epoch 4/5\n",
            "\u001b[1m35/35\u001b[0m \u001b[32m━━━━━━━━━━━━━━━━━━━━\u001b[0m\u001b[37m\u001b[0m \u001b[1m4s\u001b[0m 108ms/step - loss: 0.0291\n",
            "Epoch 5/5\n",
            "\u001b[1m35/35\u001b[0m \u001b[32m━━━━━━━━━━━━━━━━━━━━\u001b[0m\u001b[37m\u001b[0m \u001b[1m5s\u001b[0m 118ms/step - loss: 0.0284\n"
          ]
        },
        {
          "output_type": "execute_result",
          "data": {
            "text/plain": [
              "<keras.src.callbacks.history.History at 0x7963b64bf290>"
            ]
          },
          "metadata": {},
          "execution_count": 17
        }
      ],
      "source": [
        "regressor.fit(\n",
        "    X_train,\n",
        "    Y_train,\n",
        "    epochs = 5,\n",
        "    batch_size =  32\n",
        "    )\n",
        "# The epochs can be changed modified according to our need, for this model we have taken epochs = 5"
      ]
    },
    {
      "cell_type": "markdown",
      "source": [
        "##Making Predictions\n"
      ],
      "metadata": {
        "id": "Nk5PBWs3Z6xD"
      }
    },
    {
      "cell_type": "code",
      "execution_count": null,
      "metadata": {
        "id": "PjpKHlnowSUt"
      },
      "outputs": [],
      "source": [
        "df_prediction = pd.concat(\n",
        "    (dataframe_training['Open'], dataframe_testing['Open']),\n",
        "    axis=0  # ROWS; NOT COLUMNS\n",
        ")\n"
      ]
    },
    {
      "cell_type": "code",
      "execution_count": null,
      "metadata": {
        "id": "zkebdpknwXdu"
      },
      "outputs": [],
      "source": [
        "inputs = df_prediction[len(df_prediction)-len(dataframe_testing)-60:].values"
      ]
    },
    {
      "cell_type": "code",
      "execution_count": null,
      "metadata": {
        "id": "vPy_V6QOwYJG"
      },
      "outputs": [],
      "source": [
        "inputs = np.reshape(inputs, (-1, 1))\n",
        "inputs = sc.transform(inputs)\n",
        "\n",
        "X_test = []\n",
        "for i in range(60, 80):\n",
        "     #APPEND INTO X_TRAIN: ROWS, COLUMN\n",
        "     X_test.append(inputs[i-60:i, 0]) #MEMORY\n"
      ]
    },
    {
      "cell_type": "markdown",
      "source": [
        "## BACKTESTING"
      ],
      "metadata": {
        "id": "gpToC6e340Lh"
      }
    },
    {
      "cell_type": "code",
      "source": [
        "X_test = np.array(X_test)\n",
        "X_test = np.reshape(X_test, (X_test.shape[0], X_test.shape[1], 1))\n",
        "\n",
        "predicted_prices = regressor.predict(X_test)\n",
        "\n",
        "# Inverse transform the predicted prices to get them in the original scale\n",
        "predicted_prices = sc.inverse_transform(predicted_prices)\n",
        "\n",
        "actual_prices = testing_set[timesteps:]\n",
        "returns = (actual_prices[1:] - actual_prices[:-1]) / actual_prices[:-1]\n",
        "\n",
        "# Calculate trading signals based on predicted price changes\n",
        "predicted_returns = (predicted_prices[1:] - predicted_prices[:-1]) / predicted_prices[:-1]\n",
        "buy_signals = predicted_returns > 0  # Buy when the model predicts a positive return\n",
        "\n",
        "# Assuming a constant transaction cost and slippage for simplicity\n",
        "transaction_cost = 0.0015\n",
        "slippage = 0.002\n",
        "\n",
        "# Ensure buy_signals has the same length as returns\n",
        "buy_signals = buy_signals[:len(returns)]\n",
        "\n",
        "buy_signals_expanded = np.expand_dims(buy_signals, axis=-1)\n",
        "\n",
        "adjusted_returns = returns - (buy_signals_expanded * transaction_cost) - (buy_signals_expanded * slippage)\n",
        "\n",
        "# Reshape predicted_prices to match the shape of actual_prices\n",
        "predicted_prices = predicted_prices[:len(actual_prices)].flatten()\n",
        "\n",
        "# Calculate errors\n",
        "errors = actual_prices - predicted_prices\n",
        "\n",
        "# Calculate cumulative returns\n",
        "cumulative_returns = np.cumprod(1 + adjusted_returns) - 1\n",
        "\n",
        "# Trim the longer array to match the length of the shorter array\n",
        "min_length = min(len(cumulative_returns), len(errors))\n",
        "cumulative_returns_trimmed = cumulative_returns[:min_length]\n",
        "errors_trimmed = errors[:min_length]\n",
        "\n",
        "# Reshape cumulative_returns_trimmed to be a 2D array\n",
        "cumulative_returns_trimmed = cumulative_returns_trimmed.reshape(-1, 1)\n",
        "\n",
        "# Calculate the ratio of cumulative returns to prediction errors\n",
        "y = cumulative_returns_trimmed / errors_trimmed\n",
        "\n",
        "# Flatten errors_trimmed to make it 1D\n",
        "errors_flat = errors_trimmed.flatten()\n",
        "\n",
        "# Plot cumulative returns and scatter plot of errors\n",
        "plt.figure(figsize=(12, 6))\n",
        "plt.plot(y)\n",
        "plt.xlabel('Time')\n",
        "plt.ylabel('Cumulative Returns / Prediction Errors')\n",
        "plt.title('Cumulative Returns and Ratio Over Time')\n",
        "plt.legend()\n",
        "plt.show()"
      ],
      "metadata": {
        "colab": {
          "base_uri": "https://localhost:8080/",
          "height": 636
        },
        "id": "CAIj6mZC1btE",
        "outputId": "6f6cddee-a414-41bb-d400-2dadb6ee1fe2"
      },
      "execution_count": null,
      "outputs": [
        {
          "output_type": "stream",
          "name": "stdout",
          "text": [
            "\u001b[1m1/1\u001b[0m \u001b[32m━━━━━━━━━━━━━━━━━━━━\u001b[0m\u001b[37m\u001b[0m \u001b[1m1s\u001b[0m 847ms/step\n"
          ]
        },
        {
          "output_type": "stream",
          "name": "stderr",
          "text": [
            "<ipython-input-21-b3e6a87550f1>:56: UserWarning: No artists with labels found to put in legend.  Note that artists whose label start with an underscore are ignored when legend() is called with no argument.\n",
            "  plt.legend()\n"
          ]
        },
        {
          "output_type": "display_data",
          "data": {
            "text/plain": [
              "<Figure size 1200x600 with 1 Axes>"
            ],
            "image/png": "[encoded data removed]"
          },
          "metadata": {}
        }
      ]
    },
    {
      "cell_type": "code",
      "source": [
        "X_test = np.array(X_test)\n",
        "X_test = np.reshape(X_test, (X_test.shape[0], X_test.shape[1], 1))\n",
        "\n",
        "predicted_prices = regressor.predict(X_test)\n",
        "\n",
        "predicted_prices = sc.inverse_transform(predicted_prices)\n",
        "\n",
        "actual_prices = testing_set[timesteps:]\n",
        "\n",
        "returns = (actual_prices[1:] - actual_prices[:-1]) / actual_prices[:-1]\n",
        "\n",
        "predicted_returns = (predicted_prices[1:] - predicted_prices[:-1]) / predicted_prices[:-1]\n",
        "buy_signals = predicted_returns > 0\n",
        "\n",
        "transaction_cost = 0.0015\n",
        "slippage = 0.002\n",
        "\n",
        "buy_signals = buy_signals[:len(returns)]\n",
        "\n",
        "buy_signals_expanded = np.expand_dims(buy_signals, axis=-1)\n",
        "\n",
        "adjusted_returns = returns - (buy_signals_expanded * transaction_cost) - (buy_signals_expanded * slippage)\n",
        "\n",
        "cumulative_returns = np.cumprod(1 + adjusted_returns) - 1\n",
        "\n",
        "plt.figure(figsize=(12, 6))\n",
        "plt.plot(cumulative_returns, label='Cumulative Returns')\n",
        "plt.xlabel('Time')\n",
        "plt.ylabel('Cumulative Returns')\n",
        "plt.title('Cumulative Returns Over Time')\n",
        "plt.legend()\n",
        "plt.show()\n"
      ],
      "metadata": {
        "colab": {
          "base_uri": "https://localhost:8080/",
          "height": 581
        },
        "id": "Ern65Al5630Y",
        "outputId": "57fab724-025b-488b-ec62-877fcd959861"
      },
      "execution_count": null,
      "outputs": [
        {
          "output_type": "stream",
          "name": "stdout",
          "text": [
            "\u001b[1m1/1\u001b[0m \u001b[32m━━━━━━━━━━━━━━━━━━━━\u001b[0m\u001b[37m\u001b[0m \u001b[1m0s\u001b[0m 58ms/step\n"
          ]
        },
        {
          "output_type": "display_data",
          "data": {
            "text/plain": [
              "<Figure size 1200x600 with 1 Axes>"
            ],
            "image/png": "[encoded data removed]"
          },
          "metadata": {}
        }
      ]
    },
    {
      "cell_type": "markdown",
      "source": [
        "## RISK MANAGEMENT"
      ],
      "metadata": {
        "id": "jFiJYWlQ4tuT"
      }
    },
    {
      "cell_type": "code",
      "source": [
        "stop_loss_ratio = 0.02  # 2% stop-loss ratio\n",
        "\n",
        "positions = np.zeros(len(adjusted_returns))\n",
        "capital = 1.0  # Initial capital is set to 1 BTC for simplicity\n",
        "position_size = 0.1  # Example: Allocate 10% of capital to each trade\n",
        "\n",
        "# Loop through each time step\n",
        "for i in range(len(adjusted_returns)):\n",
        "\n",
        "    position_size_btc = capital * position_size\n",
        "\n",
        "    # Check if the model predicts a positive return (buy signal)\n",
        "    if buy_signals[i]:\n",
        "\n",
        "        positions[i] = position_size_btc / actual_prices[i]\n",
        "\n",
        "    # Check if stop-loss condition is met (sell signal)\n",
        "    elif positions[i-1] * (1 - stop_loss_ratio) > actual_prices[i]:\n",
        "        positions[i] = 0\n",
        "\n",
        "portfolio_value = positions * actual_prices\n",
        "\n",
        "plt.plot(portfolio_value)\n",
        "plt.xlabel('Time')\n",
        "plt.ylabel('Portfolio Value (BTC)')\n",
        "plt.legend()\n",
        "plt.show()\n"
      ],
      "metadata": {
        "colab": {
          "base_uri": "https://localhost:8080/",
          "height": 538
        },
        "id": "h9P7GMRQ4sUa",
        "outputId": "7b44720d-8842-4dd5-aa92-6e649bf01ba7"
      },
      "execution_count": null,
      "outputs": [
        {
          "output_type": "stream",
          "name": "stderr",
          "text": [
            "<ipython-input-23-b2820b090ed9>:15: DeprecationWarning: Conversion of an array with ndim > 0 to a scalar is deprecated, and will error in future. Ensure you extract a single element from your array before performing this operation. (Deprecated NumPy 1.25.)\n",
            "  positions[i] = position_size_btc / actual_prices[i]\n",
            "<ipython-input-23-b2820b090ed9>:26: UserWarning: No artists with labels found to put in legend.  Note that artists whose label start with an underscore are ignored when legend() is called with no argument.\n",
            "  plt.legend()\n"
          ]
        },
        {
          "output_type": "display_data",
          "data": {
            "text/plain": [
              "<Figure size 640x480 with 1 Axes>"
            ],
            "image/png": "[encoded data removed]"
          },
          "metadata": {}
        }
      ]
    },
    {
      "cell_type": "markdown",
      "source": [
        "## VALUES"
      ],
      "metadata": {
        "id": "PSVf_yIt80VW"
      }
    },
    {
      "cell_type": "code",
      "source": [
        "# Calculate metrics\n",
        "gross_profit = np.sum(adjusted_returns[adjusted_returns > 0])\n",
        "gross_loss = -np.sum(adjusted_returns[adjusted_returns < 0])\n",
        "net_profit = gross_profit - gross_loss\n",
        "total_closed_trades = np.sum(buy_signals)\n",
        "win_rate = np.sum(adjusted_returns > 0) / total_closed_trades\n",
        "max_drawdown = np.min(np.cumsum(adjusted_returns))\n",
        "average_winning_trade = gross_profit / np.sum(adjusted_returns > 0)\n",
        "average_losing_trade = gross_loss / np.sum(adjusted_returns < 0)\n",
        "buy_and_hold_return = (actual_prices[-1] - actual_prices[0]) / actual_prices[0]\n",
        "largest_losing_trade = np.min(adjusted_returns)\n",
        "largest_winning_trade = np.max(adjusted_returns)\n",
        "sharpe_ratio = np.sqrt(252) * np.mean(adjusted_returns) / np.std(adjusted_returns)\n",
        "sortino_ratio = np.sqrt(252) * np.mean(adjusted_returns) / np.std(adjusted_returns[adjusted_returns < 0])\n",
        "average_holding_duration = np.mean(np.diff(np.where(buy_signals)[0])) if np.sum(buy_signals) > 0 else 0\n",
        "benchmark_return = (actual_prices[-1] - actual_prices[0]) / actual_prices[0]\n",
        "risk_reward_ratio = np.mean(adjusted_returns) / np.std(adjusted_returns)\n",
        "trade_durations = np.diff(np.where(buy_signals)[0])\n",
        "max_duration_time = np.max(trade_durations) if len(trade_durations) > 0 else 0\n",
        "\n",
        "\n",
        "print(f\"Gross Profit: {gross_profit}\")\n",
        "print(f\"Gross Loss: {gross_loss}\")\n",
        "print(f\"Net Profit: {net_profit}\")\n",
        "print(f\"Total Closed Trades: {total_closed_trades}\")\n",
        "print(f\"Win Rate: {win_rate}\")\n",
        "print(f\"Max Drawdown: {max_drawdown}\")\n",
        "print(f\"Average Winning Trade (in USDT): {average_winning_trade}\")\n",
        "print(f\"Average Losing Trade (in USDT): {average_losing_trade}\")\n",
        "print(f\"Buy and Hold Return of BTC: {buy_and_hold_return}\")\n",
        "print(f\"Largest Losing Trade (in USDT): {largest_losing_trade}\")\n",
        "print(f\"Largest Winning Trade (in USDT): {largest_winning_trade}\")\n",
        "print(f\"Sharpe Ratio: {sharpe_ratio}\")\n",
        "print(f\"Sortino Ratio: {sortino_ratio}\")\n",
        "print(f\"Average Holding Duration per Trade: {average_holding_duration} days\")\n",
        "print(f\"Benchmark Return: {benchmark_return}\")\n",
        "print(f\"Risk-Reward Ratio: {risk_reward_ratio}\")\n",
        "print(f\"Max Duration Time of Single Trade: {max_duration_time} days\")"
      ],
      "metadata": {
        "colab": {
          "base_uri": "https://localhost:8080/"
        },
        "id": "2FXXoiju8zGq",
        "outputId": "f6dc63b5-c244-4b1a-ea61-1554cfd4e0c2"
      },
      "execution_count": null,
      "outputs": [
        {
          "output_type": "stream",
          "name": "stdout",
          "text": [
            "Gross Profit: 23083.837445982816\n",
            "Gross Loss: 1345.6879649256152\n",
            "Net Profit: 21738.1494810572\n",
            "Total Closed Trades: 15\n",
            "Win Rate: 144.4\n",
            "Max Drawdown: 23.388000962503984\n",
            "Average Winning Trade (in USDT): 10.657358008302316\n",
            "Average Losing Trade (in USDT): 0.6267759501283723\n",
            "Buy and Hold Return of BTC: [13.93900602]\n",
            "Largest Losing Trade (in USDT): -0.9959141048824591\n",
            "Largest Winning Trade (in USDT): 130.8287037037037\n",
            "Sharpe Ratio: 5.01354360594575\n",
            "Sortino Ratio: 256.65266667185654\n",
            "Average Holding Duration per Trade: 1.0 days\n",
            "Benchmark Return: [13.93900602]\n",
            "Risk-Reward Ratio: 0.315823561155011\n",
            "Max Duration Time of Single Trade: 1 days\n"
          ]
        }
      ]
    },
    {
      "cell_type": "code",
      "source": [],
      "metadata": {
        "id": "2hQnbFiA7Wgc"
      },
      "execution_count": null,
      "outputs": []
    }
  ],
  "metadata": {
    "colab": {
      "provenance": []
    },
    "kernelspec": {
      "display_name": "Python 3",
      "name": "python3"
    },
    "language_info": {
      "name": "python"
    }
  },
  "nbformat": 4,
  "nbformat_minor": 0
}